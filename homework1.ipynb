{
 "cells": [
  {
   "cell_type": "code",
   "execution_count": 1,
   "id": "aa650903-19b9-4200-a7dc-a9d8d6a4fbcf",
   "metadata": {},
   "outputs": [],
   "source": [
    "import numpy as np\n",
    "import pandas as pd\n",
    "import seaborn as sns"
   ]
  },
  {
   "cell_type": "code",
   "execution_count": 3,
   "id": "53d3f0f0-9f0f-4001-9622-e2e9abf347a4",
   "metadata": {},
   "outputs": [
    {
     "data": {
      "text/plain": [
       "'2.3.1'"
      ]
     },
     "execution_count": 3,
     "metadata": {},
     "output_type": "execute_result"
    }
   ],
   "source": [
    "pd.__version__"
   ]
  },
  {
   "cell_type": "code",
   "execution_count": 2,
   "id": "c3ebe937-dd28-4b90-a1c5-5e4a493b9856",
   "metadata": {},
   "outputs": [],
   "source": [
    "df = pd.read_csv('https://raw.githubusercontent.com/alexeygrigorev/datasets/master/car_fuel_efficiency.csv')"
   ]
  },
  {
   "cell_type": "code",
   "execution_count": 5,
   "id": "a1ee80d8-11cb-478a-a695-67e8cf360bc4",
   "metadata": {},
   "outputs": [
    {
     "data": {
      "text/plain": [
       "(9704, 11)"
      ]
     },
     "execution_count": 5,
     "metadata": {},
     "output_type": "execute_result"
    }
   ],
   "source": [
    "df.shape"
   ]
  },
  {
   "cell_type": "code",
   "execution_count": 6,
   "id": "e7b2f78b-76b0-494c-9fb6-11776dd2f3c7",
   "metadata": {},
   "outputs": [
    {
     "name": "stdout",
     "output_type": "stream",
     "text": [
      "<class 'pandas.core.frame.DataFrame'>\n",
      "RangeIndex: 9704 entries, 0 to 9703\n",
      "Data columns (total 11 columns):\n",
      " #   Column               Non-Null Count  Dtype  \n",
      "---  ------               --------------  -----  \n",
      " 0   engine_displacement  9704 non-null   int64  \n",
      " 1   num_cylinders        9222 non-null   float64\n",
      " 2   horsepower           8996 non-null   float64\n",
      " 3   vehicle_weight       9704 non-null   float64\n",
      " 4   acceleration         8774 non-null   float64\n",
      " 5   model_year           9704 non-null   int64  \n",
      " 6   origin               9704 non-null   object \n",
      " 7   fuel_type            9704 non-null   object \n",
      " 8   drivetrain           9704 non-null   object \n",
      " 9   num_doors            9202 non-null   float64\n",
      " 10  fuel_efficiency_mpg  9704 non-null   float64\n",
      "dtypes: float64(6), int64(2), object(3)\n",
      "memory usage: 834.1+ KB\n"
     ]
    }
   ],
   "source": [
    "df.info()"
   ]
  },
  {
   "cell_type": "code",
   "execution_count": 8,
   "id": "d9dc1213-26ff-44e6-837e-9308ceeffdb3",
   "metadata": {},
   "outputs": [
    {
     "name": "stdout",
     "output_type": "stream",
     "text": [
      "['Gasoline' 'Diesel']\n"
     ]
    }
   ],
   "source": [
    "print(df['fuel_type'].unique())"
   ]
  },
  {
   "cell_type": "code",
   "execution_count": 10,
   "id": "1c117a67-091d-4316-99bf-bc23142d2805",
   "metadata": {},
   "outputs": [
    {
     "data": {
      "text/plain": [
       "engine_displacement      0\n",
       "num_cylinders          482\n",
       "horsepower             708\n",
       "vehicle_weight           0\n",
       "acceleration           930\n",
       "model_year               0\n",
       "origin                   0\n",
       "fuel_type                0\n",
       "drivetrain               0\n",
       "num_doors              502\n",
       "fuel_efficiency_mpg      0\n",
       "dtype: int64"
      ]
     },
     "execution_count": 10,
     "metadata": {},
     "output_type": "execute_result"
    }
   ],
   "source": [
    "df.isnull().sum()"
   ]
  },
  {
   "cell_type": "code",
   "execution_count": 15,
   "id": "3eafecc5-b674-4e7d-a2cf-213498a3719b",
   "metadata": {},
   "outputs": [
    {
     "name": "stdout",
     "output_type": "stream",
     "text": [
      "23.759122836520497\n"
     ]
    }
   ],
   "source": [
    "print(df['fuel_efficiency_mpg'][df['origin']=='Asia'].max())"
   ]
  },
  {
   "cell_type": "code",
   "execution_count": 19,
   "id": "4513d95d-ce12-4e49-86fc-681341a716fc",
   "metadata": {},
   "outputs": [
    {
     "data": {
      "text/plain": [
       "np.float64(149.0)"
      ]
     },
     "execution_count": 19,
     "metadata": {},
     "output_type": "execute_result"
    }
   ],
   "source": [
    "df['horsepower'].median()"
   ]
  },
  {
   "cell_type": "code",
   "execution_count": 21,
   "id": "b46c2af8-8393-4ef1-9808-2167d036a515",
   "metadata": {},
   "outputs": [
    {
     "data": {
      "text/plain": [
       "np.float64(152.0)"
      ]
     },
     "execution_count": 21,
     "metadata": {},
     "output_type": "execute_result"
    }
   ],
   "source": [
    "df['horsepower'].mode()[0]"
   ]
  },
  {
   "cell_type": "code",
   "execution_count": 24,
   "id": "d64d3e90-0cfd-40c2-814b-12ae99fad498",
   "metadata": {},
   "outputs": [],
   "source": [
    "df['horsepower'] = df['horsepower'].fillna(df['horsepower'].mode()[0])"
   ]
  },
  {
   "cell_type": "code",
   "execution_count": 25,
   "id": "19208d75-27f5-498e-a0e6-66a8e5824503",
   "metadata": {},
   "outputs": [
    {
     "data": {
      "text/plain": [
       "np.float64(152.0)"
      ]
     },
     "execution_count": 25,
     "metadata": {},
     "output_type": "execute_result"
    }
   ],
   "source": [
    "df['horsepower'].median()"
   ]
  },
  {
   "cell_type": "code",
   "execution_count": 33,
   "id": "014c6318-a66a-4c14-a5e3-a7336d37735d",
   "metadata": {},
   "outputs": [],
   "source": [
    "X=df[['vehicle_weight','model_year']][df['origin']=='Asia'][0:7]"
   ]
  },
  {
   "cell_type": "code",
   "execution_count": 37,
   "id": "cdc88f93-3b48-4f9a-a588-11faabdfccf2",
   "metadata": {},
   "outputs": [],
   "source": [
    "XTX = X.T @ X"
   ]
  },
  {
   "cell_type": "code",
   "execution_count": 38,
   "id": "33e944b3-6baf-403a-82e5-bab4c4747d2e",
   "metadata": {},
   "outputs": [
    {
     "data": {
      "text/plain": [
       "array([[ 5.71497081e-07, -8.34509443e-07],\n",
       "       [-8.34509443e-07,  1.25380877e-06]])"
      ]
     },
     "execution_count": 38,
     "metadata": {},
     "output_type": "execute_result"
    }
   ],
   "source": [
    "np.linalg.inv(XTX)"
   ]
  },
  {
   "cell_type": "code",
   "execution_count": 39,
   "id": "95ec4cba-bf85-481a-b4ba-5543908634ea",
   "metadata": {},
   "outputs": [],
   "source": [
    "y = [1100, 1300, 800, 900, 1000, 1100, 1200]"
   ]
  },
  {
   "cell_type": "code",
   "execution_count": 41,
   "id": "1150b2bb-67c4-423f-ae09-bc9f5251a1c9",
   "metadata": {},
   "outputs": [],
   "source": [
    "w = np.linalg.inv(XTX) @ X.T @ y"
   ]
  },
  {
   "cell_type": "code",
   "execution_count": 42,
   "id": "5f7b33dd-074d-4d41-a0fc-d37105ffd794",
   "metadata": {},
   "outputs": [
    {
     "data": {
      "text/plain": [
       "0    0.013864\n",
       "1    0.504907\n",
       "dtype: float64"
      ]
     },
     "execution_count": 42,
     "metadata": {},
     "output_type": "execute_result"
    }
   ],
   "source": [
    "w"
   ]
  },
  {
   "cell_type": "code",
   "execution_count": null,
   "id": "201e0594-3548-4380-a573-0f980d867a32",
   "metadata": {},
   "outputs": [],
   "source": []
  }
 ],
 "metadata": {
  "kernelspec": {
   "display_name": "Python 3 (ipykernel)",
   "language": "python",
   "name": "python3"
  },
  "language_info": {
   "codemirror_mode": {
    "name": "ipython",
    "version": 3
   },
   "file_extension": ".py",
   "mimetype": "text/x-python",
   "name": "python",
   "nbconvert_exporter": "python",
   "pygments_lexer": "ipython3",
   "version": "3.12.1"
  }
 },
 "nbformat": 4,
 "nbformat_minor": 5
}
